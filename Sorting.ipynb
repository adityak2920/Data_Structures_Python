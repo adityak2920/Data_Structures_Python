{
 "cells": [
  {
   "cell_type": "code",
   "execution_count": 2,
   "metadata": {},
   "outputs": [
    {
     "name": "stdout",
     "output_type": "stream",
     "text": [
      "[17, 20, 26, 31, 44, 54, 55, 77, 93]\n"
     ]
    }
   ],
   "source": [
    "def bubblesort(alist):\n",
    "    for i in range(len(alist)-1,0,-1):\n",
    "        for j in range(i):\n",
    "            if alist[j]>alist[j+1]:\n",
    "                alist[j],alist[j+1]=alist[j+1],alist[j]\n",
    "    return alist\n",
    "blist=[54,26,93,17,77,31,44,55,20]\n",
    "print(bubblesort(blist))          "
   ]
  },
  {
   "cell_type": "code",
   "execution_count": 4,
   "metadata": {},
   "outputs": [
    {
     "name": "stdout",
     "output_type": "stream",
     "text": [
      "[17, 20, 26, 31, 44, 54, 55, 77, 93]\n"
     ]
    }
   ],
   "source": [
    "def selectionsort(alist):\n",
    "    for i in range(len(alist)-1, 0, -1):\n",
    "        posmax=0\n",
    "        for j in range(1,i+1):\n",
    "            if alist[j]>alist[posmax]:\n",
    "                posmax=j\n",
    "        alist[i],alist[posmax]=alist[posmax],alist[i]\n",
    "blist=[54,26,93,17,77,31,44,55,20]\n",
    "selectionsort(blist)\n",
    "print(blist)\n",
    "    "
   ]
  },
  {
   "cell_type": "code",
   "execution_count": 2,
   "metadata": {},
   "outputs": [
    {
     "name": "stdout",
     "output_type": "stream",
     "text": [
      "[17, 20, 26, 31, 44, 54, 55, 77, 93]\n"
     ]
    }
   ],
   "source": [
    "def insertionsort(alist):\n",
    "    for ind in range(1, len(alist)):\n",
    "        currentvalue = alist[ind]\n",
    "        pos=ind\n",
    "        while pos>0 and alist[pos-1]>currentvalue:\n",
    "            alist[pos]=alist[pos-1]\n",
    "            pos=pos-1\n",
    "        alist[pos]=currentvalue\n",
    "blist=[54,26,93,17,77,31,44,55,20]\n",
    "insertionsort(blist)\n",
    "print(blist)"
   ]
  },
  {
   "cell_type": "code",
   "execution_count": 4,
   "metadata": {},
   "outputs": [
    {
     "name": "stdout",
     "output_type": "stream",
     "text": [
      "After increments of size 4 The list is [20, 26, 44, 17, 54, 31, 93, 55, 77]\n",
      "After increments of size 2 The list is [20, 17, 44, 26, 54, 31, 77, 55, 93]\n",
      "After increments of size 1 The list is [17, 20, 26, 31, 44, 54, 55, 77, 93]\n",
      "[17, 20, 26, 31, 44, 54, 55, 77, 93]\n"
     ]
    }
   ],
   "source": [
    "def shellsort(alist):\n",
    "    sublistcount = len(alist)//2\n",
    "    while sublistcount>0:\n",
    "        for startpos in range(sublistcount):\n",
    "            insertionsort(alist,startpos,sublistcount)\n",
    "        print(\"After increments of size\",sublistcount,\n",
    "                                   \"The list is\",alist)\n",
    "        sublistcount=sublistcount//2\n",
    "def insertionsort(alist, start, gap):\n",
    "    for ind in range(start+gap,len(alist),gap):\n",
    "        currentvalue=alist[ind]\n",
    "        pos=ind\n",
    "        while pos>=gap and alist[pos-gap]>=currentvalue:\n",
    "            alist[pos]=alist[pos-gap]\n",
    "            pos=pos-gap\n",
    "        alist[pos]=currentvalue\n",
    "alist = [54,26,93,17,77,31,44,55,20]\n",
    "shellsort(alist)\n",
    "print(alist)        \n",
    "            "
   ]
  },
  {
   "cell_type": "code",
   "execution_count": 8,
   "metadata": {},
   "outputs": [
    {
     "name": "stdout",
     "output_type": "stream",
     "text": [
      "Splitting [54, 26, 93, 17, 77, 31, 44, 55, 20]\n",
      "Splitting [77, 31, 44, 55, 20]\n",
      "Splitting [44, 55, 20]\n",
      "Splitting [55, 20]\n",
      "Splitting [20]\n",
      "Merging [20]\n",
      "Splitting [55]\n",
      "Merging [55]\n",
      "Merging [20, 55]\n",
      "Splitting [44]\n",
      "Merging [44]\n",
      "Merging [20, 44, 55]\n",
      "Splitting [77, 31]\n",
      "Splitting [31]\n",
      "Merging [31]\n",
      "Splitting [77]\n",
      "Merging [77]\n",
      "Merging [31, 77]\n",
      "Merging [20, 31, 44, 55, 77]\n",
      "Splitting [54, 26, 93, 17]\n",
      "Splitting [93, 17]\n",
      "Splitting [17]\n",
      "Merging [17]\n",
      "Splitting [93]\n",
      "Merging [93]\n",
      "Merging [17, 93]\n",
      "Splitting [54, 26]\n",
      "Splitting [26]\n",
      "Merging [26]\n",
      "Splitting [54]\n",
      "Merging [54]\n",
      "Merging [26, 54]\n",
      "Merging [17, 26, 54, 93]\n",
      "Merging [17, 20, 26, 31, 44, 54, 55, 77, 93]\n",
      "[17, 20, 26, 31, 44, 54, 55, 77, 93]\n"
     ]
    }
   ],
   "source": [
    "def mergesort(alist):\n",
    "    print(\"Splitting\",alist)\n",
    "    if len(alist)>1:\n",
    "        mid=len(alist)//2\n",
    "        lefthalf=alist[:mid]\n",
    "        righthalf=alist[mid:]\n",
    "        mergesort(righthalf)\n",
    "        mergesort(lefthalf)\n",
    "        i=0\n",
    "        j=0\n",
    "        k=0\n",
    "        while i<len(lefthalf) and j<len(righthalf):\n",
    "            if lefthalf[i]<righthalf[j]:\n",
    "                alist[k]=lefthalf[i]\n",
    "                i+=1\n",
    "            else:\n",
    "                alist[k]=righthalf[j]\n",
    "                j+=1\n",
    "            k+=1\n",
    "        while i<len(lefthalf):\n",
    "            alist[k]=lefthalf[i]\n",
    "            i+=1\n",
    "            k+=1\n",
    "        while j<len(righthalf):\n",
    "            alist[k]=righthalf[j]\n",
    "            j+=1\n",
    "            k+=1\n",
    "    print(\"Merging\",alist)\n",
    "alist = [54,26,93,17,77,31,44,55,20]\n",
    "mergesort(alist)\n",
    "print(alist)    \n",
    "    "
   ]
  },
  {
   "cell_type": "code",
   "execution_count": 9,
   "metadata": {},
   "outputs": [
    {
     "name": "stdout",
     "output_type": "stream",
     "text": [
      "[17, 20, 26, 31, 44, 54, 55, 77, 93]\n"
     ]
    }
   ],
   "source": [
    "def quickSort(alist):\n",
    "    quickSortHelper(alist,0,len(alist)-1)\n",
    "\n",
    "def quickSortHelper(alist,first,last):\n",
    "    if first<last:\n",
    "\n",
    "        splitpoint = partition(alist,first,last)\n",
    "\n",
    "        quickSortHelper(alist,first,splitpoint-1)\n",
    "        quickSortHelper(alist,splitpoint+1,last)\n",
    "\n",
    "\n",
    "def partition(alist,first,last):\n",
    "    pivotvalue = alist[first]\n",
    "\n",
    "    leftmark = first+1\n",
    "    rightmark = last\n",
    "\n",
    "    done = False\n",
    "    while not done:\n",
    "\n",
    "        while leftmark <= rightmark and alist[leftmark] <= pivotvalue:\n",
    "            leftmark = leftmark + 1\n",
    "\n",
    "        while alist[rightmark] >= pivotvalue and rightmark >= leftmark:\n",
    "            rightmark = rightmark -1\n",
    "\n",
    "        if rightmark < leftmark:\n",
    "            done = True\n",
    "        else:\n",
    "            temp = alist[leftmark]\n",
    "            alist[leftmark] = alist[rightmark]\n",
    "            alist[rightmark] = temp\n",
    "\n",
    "    temp = alist[first]\n",
    "    alist[first] = alist[rightmark]\n",
    "    alist[rightmark] = temp\n",
    "\n",
    "\n",
    "    return rightmark\n",
    "\n",
    "alist = [54,26,93,17,77,31,44,55,20]\n",
    "quickSort(alist)\n",
    "print(alist)\n",
    "\n"
   ]
  },
  {
   "cell_type": "code",
   "execution_count": null,
   "metadata": {},
   "outputs": [],
   "source": []
  }
 ],
 "metadata": {
  "kernelspec": {
   "display_name": "Python 3",
   "language": "python",
   "name": "python3"
  },
  "language_info": {
   "codemirror_mode": {
    "name": "ipython",
    "version": 3
   },
   "file_extension": ".py",
   "mimetype": "text/x-python",
   "name": "python",
   "nbconvert_exporter": "python",
   "pygments_lexer": "ipython3",
   "version": "3.6.4"
  }
 },
 "nbformat": 4,
 "nbformat_minor": 2
}
