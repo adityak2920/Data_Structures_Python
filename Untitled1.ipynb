{
 "cells": [
  {
   "cell_type": "code",
   "execution_count": null,
   "metadata": {},
   "outputs": [],
   "source": [
    "a, b = input().split()\n",
    "a = int(a)\n",
    "b = float(b)\n",
    "if b>a+0.50 and a%5==0:\n",
    "    b=b-a-0.50        \n",
    "print(format(b,'.2f'))"
   ]
  },
  {
   "cell_type": "code",
   "execution_count": 4,
   "metadata": {},
   "outputs": [
    {
     "name": "stdout",
     "output_type": "stream",
     "text": [
      "89.50\n"
     ]
    }
   ],
   "source": [
    "a = [float(s) for s in input().split()]\n",
    "if (a[0] + 0.50) <= a[1] and a[0]%5 == 0 :\n",
    "    a[1] = format(a[1] - a[0] - 0.50 , '.2f' )\n",
    "    print(a[1])\n",
    "else:\n",
    "    a[1] = format(a[1] , '.2f' )\n",
    "    print(a[1]) "
   ]
  },
  {
   "cell_type": "code",
   "execution_count": null,
   "metadata": {},
   "outputs": [],
   "source": [
    "var1, var2 = input().split()\n",
    "var1 = int(var1)\n",
    "var2 = float(var2)\n",
    "trans = 0.50\n",
    " \n",
    "if var1 + trans < var2 and var1 % 5 == 0:\n",
    "    var2 = var2 - var1 - trans\n",
    "    \n",
    "print(format(var2,'.2f'))"
   ]
  },
  {
   "cell_type": "code",
   "execution_count": 3,
   "metadata": {},
   "outputs": [
    {
     "name": "stdout",
     "output_type": "stream",
     "text": [
      "1\n",
      "2\n",
      "120\n",
      "6\n"
     ]
    }
   ],
   "source": [
    "for i in range(int(input())):\n",
    "    a = int(input())\n",
    "    fact=1\n",
    "    while a>0:\n",
    "        fact=fact*a\n",
    "        a-=1\n",
    "    print(fact)"
   ]
  },
  {
   "cell_type": "code",
   "execution_count": 8,
   "metadata": {},
   "outputs": [
    {
     "name": "stdout",
     "output_type": "stream",
     "text": [
      "1\n",
      "2\n",
      "3\n",
      "4\n",
      "6\n"
     ]
    }
   ],
   "source": [
    "alist = [int(input()) for i in range(int(input()))]\n",
    "for i in sorted(alist):\n",
    "    print(i)"
   ]
  },
  {
   "cell_type": "code",
   "execution_count": 11,
   "metadata": {},
   "outputs": [
    {
     "name": "stdout",
     "output_type": "stream",
     "text": [
      "1 58\n"
     ]
    }
   ],
   "source": [
    "l1=0\n",
    "l2=0\n",
    "lead=0\n",
    "winner=0\n",
    "for i in range(int(input())):\n",
    "    a,b=map(int, input().split())\n",
    "    l1+=a\n",
    "    l2+=b\n",
    "    if a>b:\n",
    "        if a-b>lead:\n",
    "            lead=a-b\n",
    "            winner=1\n",
    "    else:\n",
    "        if b-a>lead:\n",
    "            lead=b-a\n",
    "            winner=2\n",
    "print(winner,lead)"
   ]
  },
  {
   "cell_type": "code",
   "execution_count": 19,
   "metadata": {},
   "outputs": [
    {
     "name": "stdout",
     "output_type": "stream",
     "text": [
      "9\n"
     ]
    }
   ],
   "source": [
    "a, b = map(int, input().split())\n",
    "su=0\n",
    "while a>b:\n",
    "    su+=fib(a-2)\n",
    "    a-=1\n",
    "def fib(n):\n",
    "    if n==1 or n==2:\n",
    "        return 1\n",
    "    bottom=[None]*(n+1)\n",
    "    bottom[1]=1\n",
    "    bottom[2]=1\n",
    "    for i in range(3, n+1):\n",
    "        bottom[i]=bottom[i-1]+bottom[i-2]\n",
    "    return bottom[n]    \n",
    "    \n",
    "print(su+1)    \n"
   ]
  },
  {
   "cell_type": "code",
   "execution_count": 16,
   "metadata": {},
   "outputs": [],
   "source": [
    "def fib(n):\n",
    "    if n==1 or n==2:\n",
    "        return 1\n",
    "    else:\n",
    "        result=fib(n-1)+fib(n-2)\n",
    "        return result"
   ]
  },
  {
   "cell_type": "code",
   "execution_count": 17,
   "metadata": {},
   "outputs": [
    {
     "data": {
      "text/plain": [
       "8"
      ]
     },
     "execution_count": 17,
     "metadata": {},
     "output_type": "execute_result"
    }
   ],
   "source": [
    "fib(6)"
   ]
  },
  {
   "cell_type": "code",
   "execution_count": 20,
   "metadata": {},
   "outputs": [
    {
     "ename": "IndexError",
     "evalue": "list index out of range",
     "output_type": "error",
     "traceback": [
      "\u001b[0;31m---------------------------------------------------------------------------\u001b[0m",
      "\u001b[0;31mIndexError\u001b[0m                                Traceback (most recent call last)",
      "\u001b[0;32m<ipython-input-20-dc9b5ed447d1>\u001b[0m in \u001b[0;36m<module>\u001b[0;34m()\u001b[0m\n\u001b[1;32m      1\u001b[0m \u001b[0ma\u001b[0m\u001b[0;34m=\u001b[0m\u001b[0;34m[\u001b[0m\u001b[0;34m]\u001b[0m\u001b[0;34m\u001b[0m\u001b[0m\n\u001b[0;32m----> 2\u001b[0;31m \u001b[0;32mif\u001b[0m \u001b[0ma\u001b[0m\u001b[0;34m[\u001b[0m\u001b[0;36m0\u001b[0m\u001b[0;34m]\u001b[0m\u001b[0;34m==\u001b[0m\u001b[0;36m0\u001b[0m\u001b[0;34m:\u001b[0m\u001b[0;34m\u001b[0m\u001b[0m\n\u001b[0m\u001b[1;32m      3\u001b[0m     \u001b[0mprint\u001b[0m\u001b[0;34m(\u001b[0m\u001b[0;34m\"yes\"\u001b[0m\u001b[0;34m)\u001b[0m\u001b[0;34m\u001b[0m\u001b[0m\n",
      "\u001b[0;31mIndexError\u001b[0m: list index out of range"
     ]
    }
   ],
   "source": [
    "a=[]\n",
    "if a[0]==0:\n",
    "    print(\"yes\")"
   ]
  },
  {
   "cell_type": "code",
   "execution_count": null,
   "metadata": {},
   "outputs": [],
   "source": [
    "for i in range(int(input())):\n",
    "    list1=[input().split()]\n",
    "    alist=[]\n",
    "    blist=[]\n",
    "    for i in list1:\n",
    "        if len(alist)>0:\n",
    "            if alist[0]==i:\n",
    "                alist.append(i)\n",
    "            else:\n",
    "                blist.append(i)\n",
    "        else:\n",
    "            alist.append(i)\n",
    "    if len(alist)==len(blist):\n",
    "        print(\"YES\")\n",
    "    else:\n",
    "        print(\"NO\")\n",
    "    print(alist)\n",
    "    print(blist)"
   ]
  },
  {
   "cell_type": "code",
   "execution_count": 2,
   "metadata": {},
   "outputs": [
    {
     "data": {
      "text/plain": [
       "5"
      ]
     },
     "execution_count": 2,
     "metadata": {},
     "output_type": "execute_result"
    }
   ],
   "source": [
    "class stacks:\n",
    "    def __init__(self):\n",
    "        self.items=[]\n",
    "    def isempty(self):\n",
    "        return self.items==[]\n",
    "    def push(self,item):\n",
    "        return self.items.insert(0, item)\n",
    "    def pop(self):\n",
    "        return self.items.pop(0)\n",
    "    def peek(self):\n",
    "        return self.items[0]\n",
    "    def size(self):\n",
    "        return len(self.items)\n",
    "s=stacks()    \n",
    "s.push(1)\n",
    "s.push(6)\n",
    "s.push(9)\n",
    "s.push(23)\n",
    "s.push(56)\n",
    "s.size()"
   ]
  },
  {
   "cell_type": "code",
   "execution_count": 1,
   "metadata": {},
   "outputs": [
    {
     "name": "stdout",
     "output_type": "stream",
     "text": [
      "2\n"
     ]
    }
   ],
   "source": [
    "import numpy\n",
    "\n",
    "a = numpy.array([1,2,3,4,5])\n",
    "print(a[1])\n"
   ]
  },
  {
   "cell_type": "code",
   "execution_count": 2,
   "metadata": {},
   "outputs": [
    {
     "ename": "ModuleNotFoundError",
     "evalue": "No module named 'cv2'",
     "output_type": "error",
     "traceback": [
      "\u001b[0;31m---------------------------------------------------------------------------\u001b[0m",
      "\u001b[0;31mModuleNotFoundError\u001b[0m                       Traceback (most recent call last)",
      "\u001b[0;32m<ipython-input-2-e3d6b08c7c57>\u001b[0m in \u001b[0;36m<module>\u001b[0;34m()\u001b[0m\n\u001b[0;32m----> 1\u001b[0;31m \u001b[0;32mimport\u001b[0m \u001b[0mcv2\u001b[0m\u001b[0;34m\u001b[0m\u001b[0m\n\u001b[0m\u001b[1;32m      2\u001b[0m \u001b[0mprint\u001b[0m\u001b[0;34m(\u001b[0m\u001b[0mcv2\u001b[0m\u001b[0;34m.\u001b[0m\u001b[0m_version_\u001b[0m\u001b[0;34m)\u001b[0m\u001b[0;34m\u001b[0m\u001b[0m\n",
      "\u001b[0;31mModuleNotFoundError\u001b[0m: No module named 'cv2'"
     ]
    }
   ],
   "source": [
    "import cv2\n",
    "print(cv2._version_)"
   ]
  },
  {
   "cell_type": "code",
   "execution_count": 6,
   "metadata": {},
   "outputs": [
    {
     "data": {
      "image/png": "[encoded data removed]",
      "text/plain": [
       "<matplotlib.figure.Figure at 0x1171e2978>"
      ]
     },
     "metadata": {},
     "output_type": "display_data"
    }
   ],
   "source": [
    "from matplotlib import pyplot as plt\n",
    "from matplotlib import style\n",
    "\n",
    "style.use('ggplot')\n",
    "\n",
    "x = [5,8,10]\n",
    "y = [12,16,6]\n",
    "\n",
    "x2 = [6,9,11]\n",
    "y2 = [6,15,7]\n",
    "\n",
    "# can plot specifically, after just showing the defaults:\n",
    "plt.plot(x,y,linewidth=5)\n",
    "plt.plot(x2,y2,linewidth=5)\n",
    "\n",
    "plt.title('Epic Info')\n",
    "plt.ylabel('Y axis')\n",
    "plt.xlabel('X axis')\n",
    "\n",
    "plt.show()"
   ]
  },
  {
   "cell_type": "code",
   "execution_count": 9,
   "metadata": {},
   "outputs": [
    {
     "data": {
      "text/plain": [
       "[17, 20, 23, 26, 31, 44, 45, 45, 54, 55, 67, 77, 78, 89, 93]"
      ]
     },
     "execution_count": 9,
     "metadata": {},
     "output_type": "execute_result"
    }
   ],
   "source": [
    "def bubblesort(alist):\n",
    "    for i in range(len(alist)-1,0,-1):\n",
    "        for j in range(i):\n",
    "            if alist[j]>alist[j+1]:\n",
    "                alist[j], alist[j+1]=alist[j+1], alist[j]\n",
    "    return alist \n",
    "bubblesort([54,26,93,17,77,31,44,55,20,45,78,67,45,23,89])"
   ]
  },
  {
   "cell_type": "code",
   "execution_count": 2,
   "metadata": {},
   "outputs": [
    {
     "data": {
      "text/plain": [
       "[17, 20, 23, 26, 31, 44, 45, 45, 54, 55, 67, 77, 78, 89, 93]"
      ]
     },
     "execution_count": 2,
     "metadata": {},
     "output_type": "execute_result"
    }
   ],
   "source": [
    "def selectionsort(alist):\n",
    "    for i in range(len(alist)-1,0,-1):\n",
    "        pos=0\n",
    "        for j in range(1,i+1):\n",
    "            if alist[j]>alist[pos]:\n",
    "                pos =j\n",
    "        alist[i],alist[pos]=alist[pos],alist[i]\n",
    "    return alist\n",
    "selectionsort([54,26,93,17,77,31,44,55,20,45,78,67,45,23,89])\n",
    "            \n",
    "    "
   ]
  },
  {
   "cell_type": "code",
   "execution_count": 6,
   "metadata": {},
   "outputs": [
    {
     "data": {
      "text/plain": [
       "[17, 20, 23, 26, 31, 44, 45, 45, 54, 55, 67, 77, 78, 89, 93]"
      ]
     },
     "execution_count": 6,
     "metadata": {},
     "output_type": "execute_result"
    }
   ],
   "source": [
    "def insertionsort(alist):\n",
    "    for i in range(1,len(alist)):\n",
    "        currentvalue=alist[i]\n",
    "        pos=i\n",
    "        while pos>0 and alist[pos-1]>currentvalue:\n",
    "            alist[pos]=alist[pos-1]\n",
    "            pos-=1\n",
    "        alist[pos]=currentvalue\n",
    "    return alist    \n",
    "insertionsort([54,26,93,17,77,31,44,55,20,45,78,67,45,23,89])        \n",
    "        \n",
    "    "
   ]
  },
  {
   "cell_type": "code",
   "execution_count": 11,
   "metadata": {},
   "outputs": [
    {
     "name": "stdout",
     "output_type": "stream",
     "text": [
      "After increments of size 7 The list is [54, 20, 45, 17, 67, 31, 23, 55, 26, 93, 78, 77, 45, 44, 89]\n",
      "After increments of size 3 The list is [17, 20, 26, 23, 44, 31, 45, 55, 45, 54, 67, 77, 93, 78, 89]\n",
      "After increments of size 1 The list is [17, 20, 23, 26, 31, 44, 45, 45, 54, 55, 67, 77, 78, 89, 93]\n"
     ]
    }
   ],
   "source": [
    "def shellsort(alist):\n",
    "    sc=len(alist)//2\n",
    "    while sc>0:\n",
    "        for sp in range(sc):\n",
    "            insertionsort(alist,sp,sc)\n",
    "        print(\"After increments of size\",sc,\n",
    "                                   \"The list is\",alist)    \n",
    "        sc=sc//2\n",
    "def insertionsort(alist,start,gap):\n",
    "    for i in range(start+gap,len(alist),gap):\n",
    "        currentvalue=alist[i]\n",
    "        pos=i\n",
    "        while pos>=gap and alist[pos-gap]>currentvalue:\n",
    "            alist[pos]=alist[pos-gap]\n",
    "            pos-=gap\n",
    "        alist[pos]=currentvalue\n",
    "    return alist    \n",
    "shellsort([54,26,93,17,77,31,44,55,20,45,78,67,45,23,89])        "
   ]
  },
  {
   "cell_type": "code",
   "execution_count": 1,
   "metadata": {},
   "outputs": [
    {
     "name": "stdout",
     "output_type": "stream",
     "text": [
      "aditya kumar chaudhary electronic\n"
     ]
    }
   ],
   "source": [
    "a = \"aditya kumar chaudhary electronics\"\n",
    "print(a[:-1])"
   ]
  },
  {
   "cell_type": "code",
   "execution_count": 2,
   "metadata": {},
   "outputs": [
    {
     "ename": "FileNotFoundError",
     "evalue": "[Errno 2] No such file or directory: 'wordsEn.txt'",
     "output_type": "error",
     "traceback": [
      "\u001b[0;31m---------------------------------------------------------------------------\u001b[0m",
      "\u001b[0;31mFileNotFoundError\u001b[0m                         Traceback (most recent call last)",
      "\u001b[0;32m<ipython-input-2-34b3cb16ef09>\u001b[0m in \u001b[0;36m<module>\u001b[0;34m()\u001b[0m\n\u001b[1;32m      1\u001b[0m \u001b[0;32mfrom\u001b[0m \u001b[0mqueue\u001b[0m \u001b[0;32mimport\u001b[0m \u001b[0mQueue\u001b[0m\u001b[0;34m\u001b[0m\u001b[0m\n\u001b[0;32m----> 2\u001b[0;31m \u001b[0mwords\u001b[0m \u001b[0;34m=\u001b[0m \u001b[0mset\u001b[0m\u001b[0;34m(\u001b[0m\u001b[0;34m''\u001b[0m\u001b[0;34m.\u001b[0m\u001b[0mjoin\u001b[0m\u001b[0;34m(\u001b[0m\u001b[0ms\u001b[0m\u001b[0;34m[\u001b[0m\u001b[0;34m:\u001b[0m\u001b[0;34m-\u001b[0m\u001b[0;36m1\u001b[0m\u001b[0;34m]\u001b[0m\u001b[0;34m)\u001b[0m \u001b[0;32mfor\u001b[0m \u001b[0ms\u001b[0m \u001b[0;32min\u001b[0m \u001b[0mopen\u001b[0m\u001b[0;34m(\u001b[0m\u001b[0;34m\"wordsEn.txt\"\u001b[0m\u001b[0;34m)\u001b[0m\u001b[0;34m)\u001b[0m\u001b[0;34m\u001b[0m\u001b[0m\n\u001b[0m\u001b[1;32m      3\u001b[0m \u001b[0mwdict\u001b[0m \u001b[0;34m=\u001b[0m \u001b[0;34m{\u001b[0m\u001b[0;34m}\u001b[0m\u001b[0;34m\u001b[0m\u001b[0m\n\u001b[1;32m      4\u001b[0m \u001b[0;32mfor\u001b[0m \u001b[0mw\u001b[0m \u001b[0;32min\u001b[0m \u001b[0mwords\u001b[0m\u001b[0;34m:\u001b[0m\u001b[0;34m\u001b[0m\u001b[0m\n\u001b[1;32m      5\u001b[0m     \u001b[0ms\u001b[0m \u001b[0;34m=\u001b[0m \u001b[0;34m''\u001b[0m\u001b[0;34m.\u001b[0m\u001b[0mjoin\u001b[0m\u001b[0;34m(\u001b[0m\u001b[0msorted\u001b[0m\u001b[0;34m(\u001b[0m\u001b[0mw\u001b[0m\u001b[0;34m)\u001b[0m\u001b[0;34m)\u001b[0m\u001b[0;34m\u001b[0m\u001b[0m\n",
      "\u001b[0;31mFileNotFoundError\u001b[0m: [Errno 2] No such file or directory: 'wordsEn.txt'"
     ]
    }
   ],
   "source": [
    "from queue import Queue\n",
    "words = set(''.join(s[:-1]) for s in open(\"wordsEn.txt\"))\n",
    "wdict = {}\n",
    "for w in words:\n",
    "    s = ''.join(sorted(w))\n",
    "    if s in wdict: wdict[s].append(w)\n",
    "    else: wdict[s] = [w]\n",
    "\n",
    "def mate(s):\n",
    "    global wdict\n",
    "    ans = [''.join(s[:c]+s[c+1:]) for c in range(len(s))]\n",
    "    for c in range(97,123): ans.append(s + chr(c))\n",
    "    for m in ans: yield from wdict.get(''.join(sorted(m)),[])\n",
    "\n",
    "def bfs(start,goal,depth=0):\n",
    "    already = set([start])\n",
    "    prev = {}\n",
    "    q = Queue()\n",
    "    q.put(start)\n",
    "    while not q.empty():\n",
    "        cur = q.get()\n",
    "        if cur==goal:\n",
    "            ans = []\n",
    "            while cur: ans.append(cur);cur = prev.get(cur)\n",
    "            return ans[::-1] #reverse the array\n",
    "        for m in mate(cur):\n",
    "            if m not in already:\n",
    "                already.add(m)\n",
    "                q.put(m)\n",
    "                prev[m] = cur\n",
    "\n",
    "\n",
    "print(bfs('croissant','baritone'))"
   ]
  },
  {
   "cell_type": "code",
   "execution_count": 9,
   "metadata": {},
   "outputs": [
    {
     "name": "stdout",
     "output_type": "stream",
     "text": [
      "Length of shortest chain is: 7\n"
     ]
    }
   ],
   "source": [
    "def isadjacent(a, b):\n",
    "    count=0\n",
    "    n = len(a)\n",
    "    for i in range(n):\n",
    "        if a[i]!=b[i]:\n",
    "            count+=1\n",
    "        if count>1:\n",
    "            break\n",
    "    return True if count==1 else False\n",
    "class Qitem():\n",
    "        def __init__(self, word, len):\n",
    "            self.word=word\n",
    "            self.len=len\n",
    "def scl(a, b, d):\n",
    "    q=[]\n",
    "    item = Qitem(start, 1)\n",
    "    q.append(item)\n",
    "    while (len(q)>0):\n",
    "        curr = q.pop()\n",
    "        for it in d:\n",
    "            temp = it\n",
    "            if isadjacent(curr.word, temp)==True:\n",
    "                item.word=temp\n",
    "                item.len = curr.len+1\n",
    "                q.append(item)\n",
    "                d.remove(temp)\n",
    "                \n",
    "                if temp==target:\n",
    "                    return item.len\n",
    "\n",
    "                \n",
    "D = []\n",
    "D.append(\"poon\")\n",
    "D.append(\"plee\")\n",
    "D.append(\"same\")\n",
    "D.append(\"poie\")\n",
    "D.append(\"plie\")\n",
    "D.append(\"poin\")\n",
    "D.append(\"plea\")\n",
    "start = \"toon\"\n",
    "target = \"plea\"\n",
    "print( \"Length of shortest chain is: %d\"  % scl(start, target, D))\n",
    "       "
   ]
  },
  {
   "cell_type": "code",
   "execution_count": 10,
   "metadata": {},
   "outputs": [],
   "source": [
    "def bfs(g, start):\n",
    "    start.setdistance(0)\n",
    "    start.setpred(None)\n",
    "    q=Queque()\n",
    "    q.enqueque(start)\n",
    "    while(q.size()>0):\n",
    "        cv=q.dequeque()\n",
    "        for nbr in cv.getconnections():\n",
    "            if nbr.getcolor()==\"white\":\n",
    "                nbr.setcolor(\"grey\")\n",
    "                nbr.setdistance(cv.getdistance()+1)\n",
    "                nbr.setpred(cv)\n",
    "                q.enqueque(nbr)\n",
    "        cv.setcolor(\"black\")        "
   ]
  },
  {
   "cell_type": "code",
   "execution_count": 3,
   "metadata": {},
   "outputs": [],
   "source": [
    "class vertex:\n",
    "    def __init__(self, key):\n",
    "        self.id=key\n",
    "        self.connected={}\n",
    "        \n",
    "    def addneighbour(self, nbr, weight=0):\n",
    "        self.connected[nbr]=weight\n",
    "    def __str__(self):\n",
    "        return str(self.id)+\" connected to:\"+str([x.id for x in connected])\n",
    "    def getconnections(self):\n",
    "        return self.connected.keys()\n",
    "    def getid(self):\n",
    "        return self.id\n",
    "    def getweight(self,nbr):\n",
    "        return self.connected[nbr]\n",
    "class graph:\n",
    "    def __init__(self):\n",
    "        self.vertexlist={}\n",
    "        self.numvertex=0\n",
    "    def addvertex(self, key):\n",
    "        self.numvertex+=1\n",
    "        newvertex=vertex(key)\n",
    "        self.vertexlist[key]=newvertex\n",
    "        return newvertex\n",
    "    def getvertex(self,key):\n",
    "        if key in vertexlist:\n",
    "            return self.vertexlist[key]\n",
    "        else:\n",
    "            return None\n",
    "    def __contains__(self, key):\n",
    "        return key in self.vertexlist\n",
    "    def addedge(self, f, t, cost=0):\n",
    "        if f not in self.vertexlist:\n",
    "            nv=self.addvertex(f)\n",
    "        if t not in self.vertexlist:\n",
    "            nv=self.addvertex(t)\n",
    "        self.vertexlist[f].addneighbour(self.vertexlist[t], cost)\n",
    "    def getvertex(self):\n",
    "        return self.vertexlist.keys()\n",
    "    def __iter__(self):\n",
    "        return iter(self.vertexlist.values())\n",
    "            \n",
    "def knightGraph(bdSize):\n",
    "    ktGraph = graph()\n",
    "    for row in range(bdSize):\n",
    "        for col in range(bdSize):\n",
    "            nodeId = posToNodeId(row,col,bdSize)\n",
    "            newPositions = genLegalMoves(row,col,bdSize)\n",
    "            for e in newPositions:\n",
    "                nid = posToNodeId(e[0],e[1],bdSize)\n",
    "                ktGraph.addedge(nodeId,nid)\n",
    "    return ktGraph\n",
    "\n",
    "def posToNodeId(row, column, board_size):\n",
    "    return (row * board_size) + column\n",
    "\n",
    "\n",
    "def genLegalMoves(x,y,bdSize):\n",
    "    newMoves = []\n",
    "    moveOffsets = [(-1,-2),(-1,2),(-2,-1),(-2,1),\n",
    "                   ( 1,-2),( 1,2),( 2,-1),( 2,1)]\n",
    "    for i in moveOffsets:\n",
    "        newX = x + i[0]\n",
    "        newY = y + i[1]\n",
    "        if legalCoord(newX,bdSize) and legalCoord(newY,bdSize):\n",
    "                        \n",
    "            newMoves.append((newX,newY))\n",
    "    return newMoves\n",
    "def legalCoord(x,bdSize):\n",
    "    if x >= 0 and x < bdSize:\n",
    "        return True\n",
    "    else:\n",
    "        return False"
   ]
  },
  {
   "cell_type": "code",
   "execution_count": 9,
   "metadata": {},
   "outputs": [
    {
     "data": {
      "text/plain": [
       "<__main__.graph at 0x10ae82550>"
      ]
     },
     "execution_count": 9,
     "metadata": {},
     "output_type": "execute_result"
    }
   ],
   "source": [
    "knightGraph(8)\n"
   ]
  },
  {
   "cell_type": "code",
   "execution_count": 1,
   "metadata": {},
   "outputs": [],
   "source": [
    "def knightgraph(bdsize):\n",
    "    ktgraph=graph()\n",
    "    for row in range(bdsize):\n",
    "        for col in range(bdsize):\n",
    "            nodeid=pos(row, col, bdsize)\n",
    "            newpos=legalmoves(row, col, bdsize)\n",
    "            for e in newpos:\n",
    "                nid=pos(e[0],e[1],bdsize)\n",
    "                ktgraph.addedge(nodeid,nid)\n",
    "    return ktgraph\n",
    "\n",
    "def pos(x, y, board_size):\n",
    "    return (row*board_size)+column\n",
    "\n",
    "def legalmoves(x, y, board_size):\n",
    "    newmoves=[]\n",
    "    moveoffsets=[(-1,-2),(-1,2),(-2,-1),(-2,1),( 1,-2),( 1,2),( 2,-1),( 2,1)]\n",
    "    for i in moveoffsets:\n",
    "        newx=x+i[0]\n",
    "        newy=y+i[1]\n",
    "        if legalboard(newx,board_size) and legalboard(newy,board_size):\n",
    "            newmoves.append((newx,newy))\n",
    "    return newmoves\n",
    "\n",
    "def legalboard(x, board_size):\n",
    "    if x>=0 and x<bdsize:\n",
    "        return True\n",
    "    else:\n",
    "        return False"
   ]
  },
  {
   "cell_type": "code",
   "execution_count": 3,
   "metadata": {},
   "outputs": [
    {
     "name": "stdout",
     "output_type": "stream",
     "text": [
      "987654321\n"
     ]
    }
   ],
   "source": [
    "import sys\n",
    "n=input()\n",
    "print(n[::-1])"
   ]
  },
  {
   "cell_type": "code",
   "execution_count": null,
   "metadata": {},
   "outputs": [],
   "source": []
  }
 ],
 "metadata": {
  "kernelspec": {
   "display_name": "Python 3",
   "language": "python",
   "name": "python3"
  },
  "language_info": {
   "codemirror_mode": {
    "name": "ipython",
    "version": 3
   },
   "file_extension": ".py",
   "mimetype": "text/x-python",
   "name": "python",
   "nbconvert_exporter": "python",
   "pygments_lexer": "ipython3",
   "version": "3.6.4"
  }
 },
 "nbformat": 4,
 "nbformat_minor": 2
}
