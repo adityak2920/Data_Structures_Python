{
 "cells": [
  {
   "cell_type": "code",
   "execution_count": 12,
   "metadata": {},
   "outputs": [
    {
     "name": "stdout",
     "output_type": "stream",
     "text": [
      "Unbalanced\n",
      "Unbalanced\n"
     ]
    }
   ],
   "source": [
    "class stacks:\n",
    "    def __init__(self):\n",
    "        self.items = []\n",
    "    def isempty(self):\n",
    "        return self.items==[]\n",
    "    def push(self, item):\n",
    "        return self.items.insert(0, item)\n",
    "    def pop(self):\n",
    "        return self.items.pop(0) \n",
    "    def peek(self):\n",
    "        return self.items[0]\n",
    "    def size(self):\n",
    "        return len(self.items)\n",
    "def parachecker(string):\n",
    "    s = stacks()\n",
    "    balanced=True\n",
    "    index=0\n",
    "    while index<len(string) and balanced:\n",
    "        sym = string[index]\n",
    "        if sym==\"(\":\n",
    "            s.push(sym)\n",
    "        elif sym.isalpha():\n",
    "            index+=1\n",
    "            continue\n",
    "        else:\n",
    "            if s.isempty():\n",
    "                balanced = False\n",
    "            else:\n",
    "                s.pop()\n",
    "        index+=1\n",
    "    if  balanced and s.isempty():\n",
    "        return \"Balanced\"\n",
    "    else:\n",
    "        return \"Unbalanced\"\n",
    "print(parachecker(\"(a)(2))\"))\n",
    "print(parachecker(\"([])\"))\n",
    "    "
   ]
  },
  {
   "cell_type": "code",
   "execution_count": 19,
   "metadata": {},
   "outputs": [
    {
     "name": "stdout",
     "output_type": "stream",
     "text": [
      "Balanced\n",
      "Balanced\n"
     ]
    }
   ],
   "source": [
    "def parchecker(string):\n",
    "    s = stacks()\n",
    "    balanced = True\n",
    "    index = 0\n",
    "    while index<len(string) and balanced:\n",
    "        sym = string[index]\n",
    "        if sym in \"([{\":\n",
    "            s.push(sym)\n",
    "        else:\n",
    "            if s.isempty():\n",
    "                balanced=False\n",
    "            else:\n",
    "                top=s.pop()\n",
    "                if not matches(top, sym):\n",
    "                    balanced=False\n",
    "        index+=1\n",
    "    if  balanced and s.isempty():\n",
    "        return \"Balanced\"\n",
    "    else:\n",
    "        return \"unbalanced\"\n",
    "def matches(open, close):\n",
    "    opens=\"([{\"\n",
    "    closers=\")]}\"\n",
    "    return opens.index(open)==closers.index(close)\n",
    "print(parchecker(\"{[()]}\"))\n",
    "print(parchecker(\"{}()[{}]\"))                    "
   ]
  },
  {
   "cell_type": "code",
   "execution_count": 32,
   "metadata": {},
   "outputs": [
    {
     "name": "stdout",
     "output_type": "stream",
     "text": [
      "11001\n",
      "31\n",
      "19\n"
     ]
    }
   ],
   "source": [
    "print(\"{0:b}\".format(25))\n",
    "print(\"{0:o}\".format(25))\n",
    "print(\"{0:x}\".format(25))"
   ]
  },
  {
   "cell_type": "code",
   "execution_count": null,
   "metadata": {},
   "outputs": [],
   "source": []
  }
 ],
 "metadata": {
  "kernelspec": {
   "display_name": "Python 3",
   "language": "python",
   "name": "python3"
  },
  "language_info": {
   "codemirror_mode": {
    "name": "ipython",
    "version": 3
   },
   "file_extension": ".py",
   "mimetype": "text/x-python",
   "name": "python",
   "nbconvert_exporter": "python",
   "pygments_lexer": "ipython3",
   "version": "3.6.4"
  }
 },
 "nbformat": 4,
 "nbformat_minor": 2
}
