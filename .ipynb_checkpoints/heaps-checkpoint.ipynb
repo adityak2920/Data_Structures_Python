{
 "cells": [
  {
   "cell_type": "code",
   "execution_count": null,
   "metadata": {},
   "outputs": [],
   "source": [
    "from numpy import array\n",
    "x, y=map(int, input().split())\n",
    "arr=[0]*x\n",
    "d=array(arr)\n",
    "for i in range(y):\n",
    "    a, b, k=map(int, input().split())\n",
    "    for i in range(a-1,b):\n",
    "        arr[i]+=k\n",
    "print(max(arr))        "
   ]
  }
 ],
 "metadata": {
  "kernelspec": {
   "display_name": "Python 3",
   "language": "python",
   "name": "python3"
  },
  "language_info": {
   "codemirror_mode": {
    "name": "ipython",
    "version": 3
   },
   "file_extension": ".py",
   "mimetype": "text/x-python",
   "name": "python",
   "nbconvert_exporter": "python",
   "pygments_lexer": "ipython3",
   "version": "3.6.4"
  }
 },
 "nbformat": 4,
 "nbformat_minor": 2
}
