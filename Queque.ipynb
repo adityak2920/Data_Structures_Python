{
 "cells": [
  {
   "cell_type": "code",
   "execution_count": 2,
   "metadata": {},
   "outputs": [
    {
     "name": "stdout",
     "output_type": "stream",
     "text": [
      "aditya\n",
      "1\n"
     ]
    }
   ],
   "source": [
    "class queque:\n",
    "    def __init__(self):\n",
    "        self.items = []\n",
    "    def isempty(self):\n",
    "        return self.items==[]\n",
    "    def enqueque(self, item):\n",
    "        self.items.insert(0, item)\n",
    "    def dequeque(self):\n",
    "        return self.items.pop()\n",
    "    def size(self):\n",
    "        return len(self.items)\n",
    "\n",
    "q = queque()\n",
    "q.enqueque(\"aditya\")\n",
    "q.enqueque(4)\n",
    "print(q.dequeque())\n",
    "print(q.size())"
   ]
  },
  {
   "cell_type": "code",
   "execution_count": 4,
   "metadata": {},
   "outputs": [
    {
     "name": "stdout",
     "output_type": "stream",
     "text": [
      "aditya\n"
     ]
    }
   ],
   "source": [
    "def hotpotato(namelist, num):\n",
    "    q = queque()\n",
    "    for name in namelist:\n",
    "        q.enqueque(name)\n",
    "    while q.size()>1:\n",
    "        for i in range(num):\n",
    "            q.enqueque(q.dequeque())\n",
    "        q.dequeque()\n",
    "    return q.dequeque()\n",
    "\n",
    "print(hotpotato([\"Bill\",\"David\",\"aditya\",\"Jane\",\"Kent\",\"Brad\"],7))"
   ]
  },
  {
   "cell_type": "code",
   "execution_count": null,
   "metadata": {},
   "outputs": [],
   "source": []
  }
 ],
 "metadata": {
  "kernelspec": {
   "display_name": "Python 3",
   "language": "python",
   "name": "python3"
  },
  "language_info": {
   "codemirror_mode": {
    "name": "ipython",
    "version": 3
   },
   "file_extension": ".py",
   "mimetype": "text/x-python",
   "name": "python",
   "nbconvert_exporter": "python",
   "pygments_lexer": "ipython3",
   "version": "3.6.6"
  }
 },
 "nbformat": 4,
 "nbformat_minor": 2
}
