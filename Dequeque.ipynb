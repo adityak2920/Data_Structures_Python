{
 "cells": [
  {
   "cell_type": "code",
   "execution_count": 15,
   "metadata": {},
   "outputs": [
    {
     "name": "stdout",
     "output_type": "stream",
     "text": [
      "True\n"
     ]
    }
   ],
   "source": [
    "class deque:\n",
    "    def __init__(self):\n",
    "        self.items=[]\n",
    "    def addfront(self, item):\n",
    "        self.items.append(item)\n",
    "    def addrear(self, item):\n",
    "        self.items.insert(0, item)\n",
    "    def removefront(self):\n",
    "        return self.items.pop()\n",
    "    def removerear(self):\n",
    "        return self.items.pop(0)\n",
    "    def isempty(self):\n",
    "        return self.items==[]\n",
    "    def size(self):\n",
    "        return len(self.items)\n",
    "d=deque()\n",
    "print(d.isempty())\n"
   ]
  },
  {
   "cell_type": "code",
   "execution_count": 22,
   "metadata": {},
   "outputs": [
    {
     "name": "stdout",
     "output_type": "stream",
     "text": [
      "True\n",
      "True\n"
     ]
    }
   ],
   "source": [
    "def palindrome(word):\n",
    "    d = deque()\n",
    "    equal=True\n",
    "    for i in word:\n",
    "        d.addrear(i)\n",
    "    while d.size()>1 and equal :\n",
    "        front=d.removefront()\n",
    "        last=d.removerear()\n",
    "        if front!=last:\n",
    "            equal = False\n",
    "    return equal        \n",
    "\n",
    "print(palindrome(\"12321\"))\n",
    "print(palindrome(\"radar\"))"
   ]
  },
  {
   "cell_type": "code",
   "execution_count": null,
   "metadata": {},
   "outputs": [],
   "source": []
  }
 ],
 "metadata": {
  "kernelspec": {
   "display_name": "Python 3",
   "language": "python",
   "name": "python3"
  },
  "language_info": {
   "codemirror_mode": {
    "name": "ipython",
    "version": 3
   },
   "file_extension": ".py",
   "mimetype": "text/x-python",
   "name": "python",
   "nbconvert_exporter": "python",
   "pygments_lexer": "ipython3",
   "version": "3.6.6"
  }
 },
 "nbformat": 4,
 "nbformat_minor": 2
}
