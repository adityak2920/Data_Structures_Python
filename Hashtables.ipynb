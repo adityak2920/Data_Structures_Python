{
 "cells": [
  {
   "cell_type": "code",
   "execution_count": 3,
   "metadata": {},
   "outputs": [
    {
     "name": "stdout",
     "output_type": "stream",
     "text": [
      "4\n"
     ]
    }
   ],
   "source": [
    "def hashfunction(astring, tablesize):\n",
    "    sum=0\n",
    "    for i in range(len(astring)):\n",
    "        sum+=ord(astring[i])\n",
    "    return sum%tablesize    \n",
    "print(hashfunction(\"Aditya\", 10))            "
   ]
  },
  {
   "cell_type": "code",
   "execution_count": 4,
   "metadata": {},
   "outputs": [
    {
     "name": "stdout",
     "output_type": "stream",
     "text": [
      "[77, 44, 55, 20, 26, 93, 17, None, None, 31, 54]\n",
      "None\n"
     ]
    }
   ],
   "source": [
    "class hashtable:\n",
    "    def __init__(self):\n",
    "        self.size=11\n",
    "        self.slots=[None]*self.size\n",
    "        self.data=[None]*self.size\n",
    "    def put(self, key, data):\n",
    "        hval=self.hfun(key, len(self.slots))\n",
    "        if self.slots[hval]==None:\n",
    "            self.slots[hval]=key\n",
    "            self.data[hval]=data\n",
    "        else:\n",
    "            if self.slots[hval]==key:\n",
    "                self.data[hval]=data\n",
    "            else:\n",
    "                nextslot=self.rehash(hval, len(self.slots))\n",
    "                while self.slots[nextslot]!=None and self.slots[nextslot]!=key:\n",
    "                    nextslot = self.rehash(nextslot, len(self.slots))\n",
    "                if self.slots[nextslot]==None:\n",
    "                    self.slots[nextslot]=key\n",
    "                    self.data[nextslot]=data\n",
    "                else:\n",
    "                    self.data[nextslot]=data\n",
    "    def hfun(self, key, size):\n",
    "        return key%size\n",
    "    def rehash(self, value, size):\n",
    "        return (value+1)%size\n",
    "    def get(self, key):\n",
    "        startslot = self.hfun(key, len(self.slots))\n",
    "        data = None\n",
    "        found = False\n",
    "        stop = False\n",
    "        position = startslot\n",
    "        while self.slots[position]==None and not found and not stop:\n",
    "            if self.slots[position]==key:\n",
    "                data = self.data[position]\n",
    "                found = True\n",
    "            else:\n",
    "                position= self.rehash(position, len(self.slots))\n",
    "                if position == startslot:\n",
    "                    stop = True\n",
    "        return data \n",
    "    def __getitem__(self,key):\n",
    "        return self.get(key)\n",
    "\n",
    "    def __setitem__(self,key,data):\n",
    "        self.put(key,data)\n",
    "H=hashtable()\n",
    "H[54]=\"cat\"\n",
    "H[26]=\"dog\"\n",
    "H[93]=\"lion\"\n",
    "H[17]=\"tiger\"\n",
    "H[77]=\"bird\"\n",
    "H[31]=\"cow\"\n",
    "H[44]=\"goat\"\n",
    "H[55]=\"pig\"\n",
    "H[20]=\"chicken\"\n",
    "print(H.slots)  \n",
    "print(H[20])\n",
    "        "
   ]
  },
  {
   "cell_type": "code",
   "execution_count": 11,
   "metadata": {},
   "outputs": [
    {
     "name": "stdout",
     "output_type": "stream",
     "text": [
      "chicken\n"
     ]
    }
   ],
   "source": []
  },
  {
   "cell_type": "code",
   "execution_count": 1,
   "metadata": {},
   "outputs": [
    {
     "ename": "SyntaxError",
     "evalue": "Missing parentheses in call to 'print'. Did you mean print(a[1])? (<ipython-input-1-e71e306ce6d8>, line 4)",
     "output_type": "error",
     "traceback": [
      "\u001b[0;36m  File \u001b[0;32m\"<ipython-input-1-e71e306ce6d8>\"\u001b[0;36m, line \u001b[0;32m4\u001b[0m\n\u001b[0;31m    print a[1]\u001b[0m\n\u001b[0m          ^\u001b[0m\n\u001b[0;31mSyntaxError\u001b[0m\u001b[0;31m:\u001b[0m Missing parentheses in call to 'print'. Did you mean print(a[1])?\n"
     ]
    }
   ],
   "source": []
  },
  {
   "cell_type": "code",
   "execution_count": null,
   "metadata": {},
   "outputs": [],
   "source": []
  }
 ],
 "metadata": {
  "kernelspec": {
   "display_name": "Python 3",
   "language": "python",
   "name": "python3"
  },
  "language_info": {
   "codemirror_mode": {
    "name": "ipython",
    "version": 3
   },
   "file_extension": ".py",
   "mimetype": "text/x-python",
   "name": "python",
   "nbconvert_exporter": "python",
   "pygments_lexer": "ipython3",
   "version": "3.6.4"
  }
 },
 "nbformat": 4,
 "nbformat_minor": 2
}
