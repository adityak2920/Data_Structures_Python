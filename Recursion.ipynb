{
 "cells": [
  {
   "cell_type": "code",
   "execution_count": 3,
   "metadata": {},
   "outputs": [
    {
     "name": "stdout",
     "output_type": "stream",
     "text": [
      "5AD\n"
     ]
    }
   ],
   "source": [
    "def toStr(n,base):\n",
    "    convertString = \"0123456789ABCDEF\"\n",
    "    if n < base:\n",
    "        return convertString[n]\n",
    "    else:\n",
    "        return toStr(n//base,base) + convertString[n%base]\n",
    "\n",
    "print(toStr(1453,16))\n",
    "\n"
   ]
  },
  {
   "cell_type": "code",
   "execution_count": 1,
   "metadata": {},
   "outputs": [],
   "source": [
    "import turtle\n",
    "my=turtle.Turtle()\n",
    "mywin = turtle.Screen()\n",
    "def drawSpiral(myTurtle, line):\n",
    "    if line>0:\n",
    "        myTurtle.width(5)\n",
    "        myTurtle.color(\"red\")\n",
    "        my.forward(line)\n",
    "        my.right(90)\n",
    "        drawSpiral(myTurtle, line-5)\n",
    "drawSpiral(my, 100)\n",
    "mywin.exitonclick()"
   ]
  },
  {
   "cell_type": "code",
   "execution_count": 4,
   "metadata": {},
   "outputs": [
    {
     "name": "stdout",
     "output_type": "stream",
     "text": [
      "moving disk from A to B\n",
      "moving disk from A to C\n",
      "moving disk from B to C\n",
      "moving disk from A to B\n",
      "moving disk from C to A\n",
      "moving disk from C to B\n",
      "moving disk from A to B\n"
     ]
    }
   ],
   "source": [
    "def tower(height, frompole, topole, withpole):\n",
    "    if height>=1:\n",
    "        tower(height-1, frompole, withpole, topole)\n",
    "        movedisk(frompole, topole)\n",
    "        tower(height-1, withpole, topole, frompole)\n",
    "def movedisk(fp, tp):\n",
    "    print(\"moving disk from\",fp,\"to\",tp)\n",
    "tower(3, \"A\",\"B\",\"C\")    "
   ]
  },
  {
   "cell_type": "code",
   "execution_count": 5,
   "metadata": {},
   "outputs": [
    {
     "data": {
      "text/plain": [
       "False"
      ]
     },
     "execution_count": 5,
     "metadata": {},
     "output_type": "execute_result"
    }
   ],
   "source": [
    "15 in [3,5,2,4,1]\n"
   ]
  },
  {
   "cell_type": "code",
   "execution_count": 2,
   "metadata": {},
   "outputs": [],
   "source": [
    "def binarysearch(alist, item):\n",
    "    first=0\n",
    "    last=len(alist)-1\n",
    "    found=false\n",
    "    while first<=last and not found:\n",
    "        mp = first+last//2\n",
    "        if alist[mp]==item:\n",
    "            found =True\n",
    "        else:\n",
    "            if item<alist[mp]:\n",
    "                last=mp-1\n",
    "            else:\n",
    "                first=mp+1\n",
    "    return found            "
   ]
  },
  {
   "cell_type": "code",
   "execution_count": null,
   "metadata": {},
   "outputs": [],
   "source": []
  }
 ],
 "metadata": {
  "kernelspec": {
   "display_name": "Python 3",
   "language": "python",
   "name": "python3"
  },
  "language_info": {
   "codemirror_mode": {
    "name": "ipython",
    "version": 3
   },
   "file_extension": ".py",
   "mimetype": "text/x-python",
   "name": "python",
   "nbconvert_exporter": "python",
   "pygments_lexer": "ipython3",
   "version": "3.7.2"
  }
 },
 "nbformat": 4,
 "nbformat_minor": 2
}
